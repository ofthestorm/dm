{
 "cells": [
  {
   "cell_type": "markdown",
   "metadata": {},
   "source": [
    "# PrefixSpan"
   ]
  },
  {
   "cell_type": "code",
   "execution_count": 24,
   "metadata": {},
   "outputs": [],
   "source": [
    "import copy\n",
    "from collections import defaultdict"
   ]
  },
  {
   "cell_type": "code",
   "execution_count": 25,
   "metadata": {},
   "outputs": [],
   "source": [
    "def projectSequence(sequence, prefix, newEvent):\n",
    "    result = None\n",
    "    for i, itemset in enumerate(sequence):\n",
    "        if result is None:\n",
    "            if (not newEvent) or i > 0:\n",
    "                if (all(x in itemset for x in prefix)):\n",
    "                    result = [list(itemset)]\n",
    "        else:\n",
    "            result.append(copy.copy(itemset))\n",
    "    return result"
   ]
  },
  {
   "cell_type": "code",
   "execution_count": 26,
   "metadata": {},
   "outputs": [],
   "source": [
    "def projectDatabase(dataset, prefix, newEvent):\n",
    "    projectedDB = []\n",
    "    for sequence in dataset:\n",
    "        seqProjected = projectSequence(sequence, prefix, newEvent)\n",
    "        if not seqProjected is None:\n",
    "            projectedDB.append(seqProjected)\n",
    "    return projectedDB"
   ]
  },
  {
   "cell_type": "code",
   "execution_count": 27,
   "metadata": {},
   "outputs": [],
   "source": [
    "def generateItems(dataset):\n",
    "    return sorted(set ([item for sublist1 in dataset for sublist2 in sublist1 for item in sublist2]))\n",
    "\n",
    "def generateItemSupports(dataset, ignoreFirstEvent=False, prefix=[]):\n",
    "    result = defaultdict(int)\n",
    "    for sequence in dataset:\n",
    "        if ignoreFirstEvent:\n",
    "            sequence = sequence[1:]\n",
    "        cooccurringItems = set()\n",
    "        for itemset in sequence:\n",
    "            if all(x in itemset for x in prefix):\n",
    "                for item in itemset:\n",
    "                    if not item in prefix:\n",
    "                        cooccurringItems.add(item)\n",
    "        for item in cooccurringItems:\n",
    "            result [item] += 1\n",
    "    return sorted(result.items())"
   ]
  },
  {
   "cell_type": "code",
   "execution_count": 28,
   "metadata": {},
   "outputs": [],
   "source": [
    "def prefixSpan(dataset, minSupport):\n",
    "    result = []\n",
    "    itemCounts = generateItemSupports(dataset)\n",
    "    for item, count in itemCounts:\n",
    "        if count >= minSupport:\n",
    "            newPrefix = [[item]]\n",
    "            result.append((newPrefix, count))\n",
    "            result.extend(prefixSpanInternal(projectDatabase(dataset, [item], False), minSupport, newPrefix))\n",
    "    return result\n",
    "\n",
    "def prefixSpanInternal(dataset, minSupport, prevPrefixes=[]):\n",
    "    result = []\n",
    "    \n",
    "    # Add a new item to the last element (==same time)\n",
    "    itemCountSameEvent = generateItemSupports(dataset, False, prefix=prevPrefixes[-1])\n",
    "    for item, count in itemCountSameEvent:\n",
    "        if (count >= minSupport) and item > prevPrefixes[-1][-1]:\n",
    "            newPrefix = copy.deepcopy(prevPrefixes)\n",
    "            newPrefix[-1].append(item)\n",
    "            result.append((newPrefix, count))\n",
    "            result.extend(prefixSpanInternal(projectDatabase(dataset, newPrefix[-1], False), minSupport, newPrefix))\n",
    "        \n",
    "    # Add a new event to the prefix\n",
    "    itemCountSubsequentEvents = generateItemSupports(dataset, True)\n",
    "    for item, count in itemCountSubsequentEvents:\n",
    "        if count >= minSupport:\n",
    "            newPrefix = copy.deepcopy(prevPrefixes)\n",
    "            newPrefix.append([item])\n",
    "            result.append((newPrefix, count))\n",
    "            result.extend(prefixSpanInternal(projectDatabase(dataset, [item], True), minSupport, newPrefix))\n",
    "    return result"
   ]
  },
  {
   "cell_type": "markdown",
   "metadata": {},
   "source": [
    "# Load Data"
   ]
  },
  {
   "cell_type": "markdown",
   "metadata": {},
   "source": [
    "### trade_new.csv"
   ]
  },
  {
   "cell_type": "code",
   "execution_count": 51,
   "metadata": {
    "scrolled": true
   },
   "outputs": [],
   "source": [
    "import numpy as np\n",
    "import pandas as pd\n",
    "with open('./trade_new.csv', 'r') as resourse_data:\n",
    "    data = pd.read_csv(resourse_data)[['vipno', 'sldatime', 'pluno', 'dptno', 'bndno']]\n",
    "data['sldatime'] = pd.to_datetime(data['sldatime'])\n",
    "sort_data = data.sort_values(['sldatime'],ascending=True).groupby(['vipno', 'sldatime'])\n"
   ]
  },
  {
   "cell_type": "code",
   "execution_count": 50,
   "metadata": {
    "scrolled": true
   },
   "outputs": [],
   "source": [
    "sort_data2 = data.sort_values(['sldatime'],ascending=True).groupby('vipno')\n",
    "pluno_sequence = []\n",
    "dptno_sequence = []\n",
    "bndno_sequence = []\n",
    "for x in sort_data2:\n",
    "    pluno_slice = []\n",
    "    dptno_slice = []\n",
    "    bndno_slice = []\n",
    "    length = int(len(x[1])*0.6)\n",
    "    x2 = x[1].head(length).groupby('sldatime')\n",
    "    \n",
    "    for x3 in x2:\n",
    "        plu_temp = list(x3[1]['pluno'])\n",
    "        pluno_slice.append(plu_temp)\n",
    "        dpt_temp = list(x3[1]['dptno'])\n",
    "        dptno_slice.append(dpt_temp)\n",
    "        bnd_temp = list(x3[1]['bndno'].dropna().astype(int))\n",
    "        bndno_slice.append(bnd_temp)\n",
    "    pluno_sequence.append(pluno_slice)\n",
    "    dptno_sequence.append(dptno_slice)\n",
    "    \n",
    "    while [] in bndno_slice:\n",
    "        bndno_slice.remove([])\n",
    "    bndno_sequence.append(bndno_slice)\n",
    "while [] in bndno_sequence:\n",
    "    bndno_sequence.remove([])"
   ]
  },
  {
   "cell_type": "code",
   "execution_count": 34,
   "metadata": {},
   "outputs": [],
   "source": [
    "import matplotlib.pyplot as plt\n",
    "def get_runtime(support, data):\n",
    "    temp = []\n",
    "    for i in support:\n",
    "        start = time.clock()\n",
    "        prefixSpan(data, i)\n",
    "        end = time.clock()\n",
    "        temp.append(end - start)\n",
    "    return temp\n",
    "    \n",
    "def time_table(support, pluno_runtime, dptno_runtime, bndno_runtime, y):\n",
    "    n_groups = len(support)\n",
    "\n",
    "    fig, ax = plt.subplots()    \n",
    "    index = np.arange(n_groups)    \n",
    "    bar_width = 0.3  \n",
    "         \n",
    "    opacity = 0.4    \n",
    "    rects1 = plt.bar(index, pluno_runtime, bar_width,alpha=opacity, color='k',label='pluno')    \n",
    "    rects2 = plt.bar(index + bar_width, dptno_runtime, bar_width,alpha=opacity,color='b',label='dptno')    \n",
    "    rects2 = plt.bar(index + bar_width * 2, bndno_runtime, bar_width,alpha=opacity,color='c',label='bndno')    \n",
    "\n",
    "    plt.xlabel('Support')    \n",
    "    plt.ylabel('Time')    \n",
    "    plt.title('Time by support and itemno')    \n",
    "    plt.xticks(index + bar_width, support)    \n",
    "    plt.ylim(0, y);    \n",
    "    plt.legend();    \n",
    "      \n",
    "    plt.tight_layout();   \n",
    "    plt.show();"
   ]
  },
  {
   "cell_type": "code",
   "execution_count": 22,
   "metadata": {},
   "outputs": [],
   "source": [
    "import time\n",
    "pluno_runtime = []\n",
    "dptno_runtime = []\n",
    "bndno_runtime = []\n",
    "support = [2, 4, 6, 8, 10]"
   ]
  },
  {
   "cell_type": "code",
   "execution_count": 29,
   "metadata": {},
   "outputs": [],
   "source": [
    "pluno_runtime = get_runtime(support, pluno_sequence)\n",
    "dptno_runtime = get_runtime(support, dptno_sequence)\n",
    "bndno_runtime = get_runtime(support, bndno_sequence)"
   ]
  },
  {
   "cell_type": "code",
   "execution_count": 43,
   "metadata": {},
   "outputs": [
    {
     "data": {
      "image/png": "[encoded data removed]",
      "text/plain": [
       "<Figure size 432x288 with 1 Axes>"
      ]
     },
     "metadata": {},
     "output_type": "display_data"
    }
   ],
   "source": [
    "time_table(support, pluno_runtime, dptno_runtime, bndno_runtime, 123)"
   ]
  },
  {
   "cell_type": "markdown",
   "metadata": {},
   "source": [
    "### trade.csv"
   ]
  },
  {
   "cell_type": "code",
   "execution_count": 47,
   "metadata": {
    "scrolled": true
   },
   "outputs": [],
   "source": [
    "with open('./trade.csv', 'r') as resourse_data2:\n",
    "    data2 = pd.read_csv(resourse_data2)[['vipno', 'sldat', 'pluno', 'dptno', 'bndno']]\n",
    "data2['sldat'] = pd.to_datetime(data2['sldat'])\n",
    "sort_data = data2.sort_values(['sldat'],ascending=True).groupby('vipno')\n",
    "pluno_sequence2 = []\n",
    "dptno_sequence2 = []\n",
    "bndno_sequence2 = []\n",
    "for x in sort_data:\n",
    "    pluno_slice2 = []\n",
    "    dptno_slice2 = []\n",
    "    bndno_slice2 = []\n",
    "    length = int(len(x[1])*0.6)\n",
    "    x2 = x[1].head(length).groupby('sldat')\n",
    "    \n",
    "    for x3 in x2:\n",
    "#         print(x3)\n",
    "#         print('\\n')\n",
    "        plu_temp = list(x3[1]['pluno'])\n",
    "        pluno_slice2.append(plu_temp)\n",
    "        dpt_temp = list(x3[1]['dptno'])\n",
    "        dptno_slice2.append(dpt_temp)\n",
    "#         print(dpt_temp)\n",
    "        bnd_temp = list(x3[1]['bndno'].dropna().astype(int))\n",
    "        bndno_slice2.append(bnd_temp)\n",
    "#         print(bnd_temp)\n",
    "#     print(\"\\n\")\n",
    "#     print(pluno_slice)\n",
    "    pluno_sequence2.append(pluno_slice2)\n",
    "    dptno_sequence2.append(dptno_slice2)\n",
    "    \n",
    "    while [] in bndno_slice2:\n",
    "        bndno_slice2.remove([])\n",
    "    bndno_sequence2.append(bndno_slice2)\n",
    "while [] in bndno_sequence2:\n",
    "    bndno_sequence2.remove([])"
   ]
  },
  {
   "cell_type": "code",
   "execution_count": 39,
   "metadata": {},
   "outputs": [],
   "source": [
    "pluno_runtime2 = get_runtime(support, pluno_sequence2)\n",
    "dptno_runtime2 = get_runtime(support, dptno_sequence2)\n",
    "bndno_runtime2 = get_runtime(support, bndno_sequence2)"
   ]
  },
  {
   "cell_type": "code",
   "execution_count": 42,
   "metadata": {},
   "outputs": [
    {
     "data": {
      "image/png": "[encoded data removed]",
      "text/plain": [
       "<Figure size 432x288 with 1 Axes>"
      ]
     },
     "metadata": {},
     "output_type": "display_data"
    }
   ],
   "source": [
    "time_table(support, pluno_runtime2, dptno_runtime2, bndno_runtime2, 160)"
   ]
  }
 ],
 "metadata": {
  "kernelspec": {
   "display_name": "Python 3",
   "language": "python",
   "name": "python3"
  },
  "language_info": {
   "codemirror_mode": {
    "name": "ipython",
    "version": 3
   },
   "file_extension": ".py",
   "mimetype": "text/x-python",
   "name": "python",
   "nbconvert_exporter": "python",
   "pygments_lexer": "ipython3",
   "version": "3.6.0"
  }
 },
 "nbformat": 4,
 "nbformat_minor": 2
}
